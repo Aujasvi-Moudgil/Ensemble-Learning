{
 "cells": [
  {
   "cell_type": "code",
   "execution_count": 5,
   "metadata": {},
   "outputs": [],
   "source": [
    "%matplotlib inline"
   ]
  },
  {
   "cell_type": "code",
   "execution_count": 6,
   "metadata": {},
   "outputs": [],
   "source": [
    "import numpy as np\n",
    "import pandas as pd\n",
    "from sklearn.model_selection import train_test_split"
   ]
  },
  {
   "cell_type": "code",
   "execution_count": 7,
   "metadata": {},
   "outputs": [],
   "source": [
    "from sklearn.tree import DecisionTreeClassifier"
   ]
  },
  {
   "cell_type": "markdown",
   "metadata": {},
   "source": [
    "from sklearn.feature_extraction.text import CountVectorizer  #DT does not take strings as input for the model fit step...."
   ]
  },
  {
   "cell_type": "code",
   "execution_count": 8,
   "metadata": {},
   "outputs": [],
   "source": [
    "credit_df = pd.read_csv(\"credit.csv\")"
   ]
  },
  {
   "cell_type": "code",
   "execution_count": 9,
   "metadata": {},
   "outputs": [
    {
     "name": "stdout",
     "output_type": "stream",
     "text": [
      "<class 'pandas.core.frame.DataFrame'>\n",
      "RangeIndex: 1000 entries, 0 to 999\n",
      "Data columns (total 17 columns):\n",
      "checking_balance        1000 non-null object\n",
      "months_loan_duration    1000 non-null int64\n",
      "credit_history          1000 non-null object\n",
      "purpose                 1000 non-null object\n",
      "amount                  1000 non-null int64\n",
      "savings_balance         1000 non-null object\n",
      "employment_duration     1000 non-null object\n",
      "percent_of_income       1000 non-null int64\n",
      "years_at_residence      1000 non-null int64\n",
      "age                     1000 non-null int64\n",
      "other_credit            1000 non-null object\n",
      "housing                 1000 non-null object\n",
      "existing_loans_count    1000 non-null int64\n",
      "job                     1000 non-null object\n",
      "dependents              1000 non-null int64\n",
      "phone                   1000 non-null object\n",
      "default                 1000 non-null object\n",
      "dtypes: int64(7), object(10)\n",
      "memory usage: 132.9+ KB\n"
     ]
    }
   ],
   "source": [
    "credit_df.info()  # many columns are of type object i.e. strings. These need to be converted to ordinal type"
   ]
  },
  {
   "cell_type": "code",
   "execution_count": 10,
   "metadata": {},
   "outputs": [],
   "source": [
    "# Decision tree in Python can take only numerical / categorical colums. It cannot take string / obeject types. \n",
    "# The following code loops through each column and checks if the column type is object then converts those columns\n",
    "# into categorical with each distinct value becoming a category or code.\n",
    "\n",
    "for feature in credit_df.columns: # Loop through all columns in the dataframe\n",
    "    if credit_df[feature].dtype == 'object': # Only apply for columns with categorical strings\n",
    "        credit_df[feature] = pd.Categorical(credit_df[feature]).codes # Replace strings with an integer"
   ]
  },
  {
   "cell_type": "code",
   "execution_count": 11,
   "metadata": {},
   "outputs": [
    {
     "name": "stdout",
     "output_type": "stream",
     "text": [
      "<class 'pandas.core.frame.DataFrame'>\n",
      "RangeIndex: 1000 entries, 0 to 999\n",
      "Data columns (total 17 columns):\n",
      "checking_balance        1000 non-null int8\n",
      "months_loan_duration    1000 non-null int64\n",
      "credit_history          1000 non-null int8\n",
      "purpose                 1000 non-null int8\n",
      "amount                  1000 non-null int64\n",
      "savings_balance         1000 non-null int8\n",
      "employment_duration     1000 non-null int8\n",
      "percent_of_income       1000 non-null int64\n",
      "years_at_residence      1000 non-null int64\n",
      "age                     1000 non-null int64\n",
      "other_credit            1000 non-null int8\n",
      "housing                 1000 non-null int8\n",
      "existing_loans_count    1000 non-null int64\n",
      "job                     1000 non-null int8\n",
      "dependents              1000 non-null int64\n",
      "phone                   1000 non-null int8\n",
      "default                 1000 non-null int8\n",
      "dtypes: int64(7), int8(10)\n",
      "memory usage: 64.5 KB\n"
     ]
    }
   ],
   "source": [
    "credit_df.info()"
   ]
  },
  {
   "cell_type": "markdown",
   "metadata": {},
   "source": [
    "col_labels = [ 'checking_balance', 'months_loan_duration' ,'credit_history' , 'purpose, amount', 'savings_balance' , 'employment_duration'\n",
    ", 'percent_of_income', 'years_at_residence', 'age', 'other_credit', 'housing', 'existing_loans_count', 'job', 'dependents', 'phone', 'default']"
   ]
  },
  {
   "cell_type": "markdown",
   "metadata": {},
   "source": [
    "train_char_label = ['No', 'Yes']"
   ]
  },
  {
   "cell_type": "code",
   "execution_count": 12,
   "metadata": {},
   "outputs": [],
   "source": [
    "# splitting data into training and test set for independent attributes\n",
    "\n",
    "#train_set = credit_df.head(500) # Up to the last initial training set row\n",
    "#test_set = credit_df.tail(500) # Past the last initial training set row\n",
    "\n",
    "# capture the target column (\"default\") into separate vectors for training set and test set\n",
    "#train_labels = train_set.pop(\"default\")\n",
    "#test_labels = test_set.pop(\"default\")\n",
    "\n",
    "\n",
    "array = credit_df.values\n",
    "X = array[:,:-1] # select all rows and first 4 columns which are the attributes\n",
    "y = array[:,-1] \n",
    "\n",
    "train_set, test_set, train_labels, test_labels = train_test_split(X, y, test_size=0.25, random_state=1)"
   ]
  },
  {
   "cell_type": "code",
   "execution_count": 13,
   "metadata": {},
   "outputs": [],
   "source": [
    "# invoking the decision tree classifier function. Using 'entropy' method of finding the split columns. Other option \n",
    "# could be gini index.  Restricting the depth of the tree to 5 (no particular reason for selecting this)\n",
    "\n",
    "#dt_model = DecisionTreeClassifier(criterion = 'entropy' , max_depth = 5, random_state = 100)\n",
    "                                  \n",
    "dt_model = DecisionTreeClassifier(criterion = 'entropy' , random_state=1)"
   ]
  },
  {
   "cell_type": "code",
   "execution_count": 14,
   "metadata": {},
   "outputs": [
    {
     "data": {
      "text/plain": [
       "DecisionTreeClassifier(class_weight=None, criterion='entropy', max_depth=None,\n",
       "            max_features=None, max_leaf_nodes=None,\n",
       "            min_impurity_decrease=0.0, min_impurity_split=None,\n",
       "            min_samples_leaf=1, min_samples_split=2,\n",
       "            min_weight_fraction_leaf=0.0, presort=False, random_state=1,\n",
       "            splitter='best')"
      ]
     },
     "execution_count": 14,
     "metadata": {},
     "output_type": "execute_result"
    }
   ],
   "source": [
    "dt_model.fit(train_set, train_labels )"
   ]
  },
  {
   "cell_type": "code",
   "execution_count": 15,
   "metadata": {},
   "outputs": [
    {
     "data": {
      "text/plain": [
       "0.712"
      ]
     },
     "execution_count": 15,
     "metadata": {},
     "output_type": "execute_result"
    }
   ],
   "source": [
    "dt_model.score(test_set , test_labels)"
   ]
  },
  {
   "cell_type": "code",
   "execution_count": 16,
   "metadata": {},
   "outputs": [
    {
     "data": {
      "text/plain": [
       "1.0"
      ]
     },
     "execution_count": 16,
     "metadata": {},
     "output_type": "execute_result"
    }
   ],
   "source": [
    "dt_model.score(train_set, train_labels)   # to demonstrate that it is overfit"
   ]
  },
  {
   "cell_type": "markdown",
   "metadata": {
    "collapsed": true
   },
   "source": [
    "Regularising the Decision Tree"
   ]
  },
  {
   "cell_type": "code",
   "execution_count": 17,
   "metadata": {},
   "outputs": [
    {
     "data": {
      "text/plain": [
       "DecisionTreeClassifier(class_weight=None, criterion='entropy', max_depth=5,\n",
       "            max_features=None, max_leaf_nodes=None,\n",
       "            min_impurity_decrease=0.0, min_impurity_split=None,\n",
       "            min_samples_leaf=1, min_samples_split=2,\n",
       "            min_weight_fraction_leaf=0.0, presort=False, random_state=1,\n",
       "            splitter='best')"
      ]
     },
     "execution_count": 17,
     "metadata": {},
     "output_type": "execute_result"
    }
   ],
   "source": [
    "dt_model = DecisionTreeClassifier(criterion = 'entropy', max_depth = 5, random_state=1 )\n",
    "dt_model.fit(train_set, train_labels)"
   ]
  },
  {
   "cell_type": "code",
   "execution_count": 18,
   "metadata": {},
   "outputs": [
    {
     "name": "stdout",
     "output_type": "stream",
     "text": [
      "Regularized DT is right fit    \n",
      "0.7506666666666667\n",
      "0.708\n"
     ]
    }
   ],
   "source": [
    "print(\"Regularized DT is right fit    \")\n",
    "\n",
    "print(dt_model.score(train_set , train_labels))\n",
    "\n",
    "print(dt_model.score(test_set , test_labels))"
   ]
  },
  {
   "cell_type": "markdown",
   "metadata": {},
   "source": [
    "# Ensemble Learning "
   ]
  },
  {
   "cell_type": "markdown",
   "metadata": {},
   "source": [
    "## Bagging"
   ]
  },
  {
   "cell_type": "code",
   "execution_count": 19,
   "metadata": {},
   "outputs": [],
   "source": [
    "credit_labels = credit_df.pop(\"default\")"
   ]
  },
  {
   "cell_type": "code",
   "execution_count": 20,
   "metadata": {},
   "outputs": [
    {
     "name": "stdout",
     "output_type": "stream",
     "text": [
      "0.764\n"
     ]
    }
   ],
   "source": [
    "# In the following lines, we call the bagging classifer with oob_score (out of bag score) set to true which false by default\n",
    "# This makes the baggingclassifier use the 37% unused data for testing\n",
    "# Compare the performance of the BGCL with regularized dt above. \n",
    "# Though not required, you can keep separate test data (outside the bootstrap sampling) on which we test the BGCL\n",
    "# \n",
    "\n",
    "from sklearn.ensemble import BaggingClassifier\n",
    "bgcl = BaggingClassifier(n_estimators=100, max_samples=.50 , oob_score=True , random_state=1)\n",
    "\n",
    "bgcl = bgcl.fit(credit_df, credit_labels)\n",
    "\n",
    "print(bgcl.oob_score_)"
   ]
  },
  {
   "cell_type": "markdown",
   "metadata": {
    "collapsed": true
   },
   "source": [
    "## AdaBoosting"
   ]
  },
  {
   "cell_type": "code",
   "execution_count": 21,
   "metadata": {},
   "outputs": [],
   "source": [
    "from sklearn.ensemble import AdaBoostClassifier\n",
    "\n",
    "abcl = AdaBoostClassifier(n_estimators=50)\n",
    "abcl = abcl.fit(train_set, train_labels)\n"
   ]
  },
  {
   "cell_type": "code",
   "execution_count": 22,
   "metadata": {},
   "outputs": [
    {
     "data": {
      "text/plain": [
       "0.728"
      ]
     },
     "execution_count": 22,
     "metadata": {},
     "output_type": "execute_result"
    }
   ],
   "source": [
    "# print(abcl.oob_score_)   # Adaboost does not have OOB Score attribute\n",
    "\n",
    "test_pred = abcl.predict(test_set)\n",
    "abcl.score(test_set , test_labels)"
   ]
  },
  {
   "cell_type": "markdown",
   "metadata": {},
   "source": [
    "## GradientBoost"
   ]
  },
  {
   "cell_type": "code",
   "execution_count": 23,
   "metadata": {},
   "outputs": [],
   "source": [
    "from sklearn.ensemble import GradientBoostingClassifier\n",
    "gbcl = GradientBoostingClassifier(n_estimators = 50, random_state=1)\n",
    "gbcl = gbcl.fit(train_set, train_labels)"
   ]
  },
  {
   "cell_type": "code",
   "execution_count": 24,
   "metadata": {},
   "outputs": [
    {
     "data": {
      "text/plain": [
       "0.736"
      ]
     },
     "execution_count": 24,
     "metadata": {},
     "output_type": "execute_result"
    }
   ],
   "source": [
    "# print(gbcl.oob_score_)   # Gradientboost does not have OOB Score attribute\n",
    "\n",
    "\n",
    "test_pred = gbcl.predict(test_set)\n",
    "gbcl.score(test_set , test_labels)"
   ]
  },
  {
   "cell_type": "markdown",
   "metadata": {},
   "source": [
    "## RandomForest Classifier"
   ]
  },
  {
   "cell_type": "code",
   "execution_count": 25,
   "metadata": {},
   "outputs": [],
   "source": [
    "from sklearn.ensemble import RandomForestClassifier\n",
    "rfcl = RandomForestClassifier(n_estimators = 50, random_state=1)\n",
    "rfcl = rfcl.fit(train_set, train_labels)"
   ]
  },
  {
   "cell_type": "code",
   "execution_count": 26,
   "metadata": {},
   "outputs": [
    {
     "data": {
      "text/plain": [
       "0.756"
      ]
     },
     "execution_count": 26,
     "metadata": {},
     "output_type": "execute_result"
    }
   ],
   "source": [
    "# To keep it comparable with boosting algorithms... it supports oob score\n",
    "\n",
    "test_pred = rfcl.predict(test_set)\n",
    "rfcl.score(test_set , test_labels)"
   ]
  },
  {
   "cell_type": "markdown",
   "metadata": {},
   "source": [
    "# ROC AUC for Ensemble"
   ]
  },
  {
   "cell_type": "code",
   "execution_count": 27,
   "metadata": {},
   "outputs": [
    {
     "data": {
      "image/png": "[encoded data removed]",
      "text/plain": [
       "<Figure size 432x288 with 1 Axes>"
      ]
     },
     "metadata": {
      "needs_background": "light"
     },
     "output_type": "display_data"
    }
   ],
   "source": [
    "#importing libraries\n",
    "import numpy as np\n",
    "import pandas as pd\n",
    "from matplotlib import cm\n",
    "import matplotlib.pyplot as plt\n",
    "from sklearn import metrics\n",
    "\n",
    "\n",
    "\n",
    "def roccurve(y_values, y_preds_proba):\n",
    "    fpr, tpr, _ = metrics.roc_curve(y_values, y_preds_proba)\n",
    "    xx = np.arange(101) / float(100)\n",
    "    aur = metrics.auc(fpr,tpr)\n",
    "    plt.xlim(0, 1.0)\n",
    "    plt.ylim(0, 1.25)\n",
    "    plt.plot([0.0, 0.0], [0.0, 1.0], color='green', linewidth=8)\n",
    "    plt.plot([0.0, 1.0], [1.0, 1.0], color='green', label='Perfect Model', linewidth=4)\n",
    "    plt.plot(xx,xx, color='blue', label='Random Model')\n",
    "    plt.plot(fpr,tpr, color='red', label='User Model')\n",
    "    plt.title(\"ROC Curve - AUR value =\"+str(aur))\n",
    "    plt.xlabel('% false positives')\n",
    "    plt.ylabel('% true positives')\n",
    "    plt.legend()\n",
    "    plt.show()\n",
    "\n",
    "\n",
    "\n",
    "\n",
    "rfcl_test_pred_proba = rfcl.predict_proba(X=test_set)\n",
    "roccurve(y_values=test_labels, y_preds_proba=rfcl_test_pred_proba[:,1])\n",
    "\n"
   ]
  },
  {
   "cell_type": "code",
   "execution_count": null,
   "metadata": {},
   "outputs": [
    {
     "name": "stdout",
     "output_type": "stream",
     "text": [
      "0.716\n",
      "0.731\n",
      "0.728\n",
      "0.723\n",
      "0.728\n",
      "0.732\n",
      "0.739\n",
      "0.727\n",
      "0.721\n",
      "0.737\n",
      "0.734\n",
      "0.732\n",
      "0.731\n",
      "0.732\n",
      "0.73\n",
      "0.731\n",
      "0.721\n",
      "0.731\n",
      "0.725\n",
      "0.731\n",
      "0.724\n",
      "0.726\n",
      "0.723\n",
      "0.727\n",
      "0.726\n",
      "0.732\n",
      "0.73\n",
      "0.73\n",
      "0.726\n",
      "0.731\n",
      "0.727\n"
     ]
    }
   ],
   "source": [
    "#Long Term performance on OOB data rather than a separate dataset\n",
    "bgcl = BaggingClassifier(n_estimators=500, max_samples=.50 , oob_score=True)\n",
    "\n",
    "values = credit_df.values  # This is already done, showing it here for ease of reference\n",
    "\n",
    "\n",
    "\n",
    "# configure bootstrap\n",
    "n_iterations = 100       # Number of bootstrap samples to create\n",
    "n_size = int(len(values) * 1)    # picking only 50 % of the given data in every bootstrap sample\n",
    "\n",
    "# run bootstrap\n",
    "stats = list()\n",
    "for i in range(n_iterations):\n",
    "\n",
    "\tbgcl.fit(values[:,:-1], values[:,-1])\n",
    "\tscore = bgcl.oob_score_\n",
    "\tprint(score)\n",
    "\tstats.append(score)\n"
   ]
  },
  {
   "cell_type": "code",
   "execution_count": null,
   "metadata": {},
   "outputs": [],
   "source": [
    "from matplotlib import pyplot\n",
    "\n",
    "# plot scores\n",
    "pyplot.hist(stats)\n",
    "pyplot.show()\n",
    "# confidence intervals\n",
    "alpha = 0.95                             # for 95% confidence \n",
    "p = ((1.0-alpha)/2.0) * 100              # tail regions on right and left .25 on each side indicated by P value (border)\n",
    "lower = max(0.0, np.percentile(stats, p))  \n",
    "p = (alpha+((1.0-alpha)/2.0)) * 100\n",
    "upper = min(1.0, np.percentile(stats, p))\n",
    "print('%.1f confidence interval %.1f%% and %.1f%%' % (alpha*100, lower*100, upper*100))"
   ]
  },
  {
   "cell_type": "code",
   "execution_count": null,
   "metadata": {},
   "outputs": [],
   "source": []
  }
 ],
 "metadata": {
  "kernelspec": {
   "display_name": "Python 3",
   "language": "python",
   "name": "python3"
  },
  "language_info": {
   "codemirror_mode": {
    "name": "ipython",
    "version": 3
   },
   "file_extension": ".py",
   "mimetype": "text/x-python",
   "name": "python",
   "nbconvert_exporter": "python",
   "pygments_lexer": "ipython3",
   "version": "3.7.0"
  }
 },
 "nbformat": 4,
 "nbformat_minor": 2
}
