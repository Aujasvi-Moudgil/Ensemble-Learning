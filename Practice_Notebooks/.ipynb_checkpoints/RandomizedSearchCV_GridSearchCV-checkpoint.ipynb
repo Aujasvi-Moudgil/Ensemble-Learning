{
 "cells": [
  {
   "cell_type": "code",
   "execution_count": 27,
   "metadata": {},
   "outputs": [],
   "source": [
    "%matplotlib inline"
   ]
  },
  {
   "cell_type": "code",
   "execution_count": 28,
   "metadata": {},
   "outputs": [],
   "source": [
    "import numpy as np\n",
    "from time import time\n",
    "from scipy.stats import randint as sp_randint\n",
    "from sklearn.model_selection import GridSearchCV\n",
    "from sklearn.model_selection import RandomizedSearchCV\n",
    "from sklearn.datasets import load_digits\n",
    "from sklearn.ensemble import RandomForestClassifier"
   ]
  },
  {
   "cell_type": "code",
   "execution_count": 29,
   "metadata": {},
   "outputs": [],
   "source": [
    "# get data\n",
    "digits = load_digits()  # Source : http://archive.ics.uci.edu/ml/datasets/Pen-Based+Recognition+of+Handwritten+Digits\n",
    "X, y = digits.data, digits.target"
   ]
  },
  {
   "cell_type": "code",
   "execution_count": 30,
   "metadata": {},
   "outputs": [],
   "source": [
    "# build a classifier\n",
    "clf = RandomForestClassifier(n_estimators=50)"
   ]
  },
  {
   "cell_type": "code",
   "execution_count": 31,
   "metadata": {},
   "outputs": [],
   "source": [
    "# specify parameters and distributions to sample from\n",
    "param_dist = {\"max_depth\": [3, None],\n",
    "              \"max_features\": sp_randint(1, 11),\n",
    "              \"min_samples_split\": sp_randint(2, 11),\n",
    "              \"min_samples_leaf\": sp_randint(1, 11),\n",
    "              \"bootstrap\": [True, False],\n",
    "              \"criterion\": [\"gini\", \"entropy\"]}"
   ]
  },
  {
   "cell_type": "code",
   "execution_count": 32,
   "metadata": {},
   "outputs": [],
   "source": [
    "# run randomized search\n",
    "samples = 10  # number of random samples \n",
    "randomCV = RandomizedSearchCV(clf, param_distributions=param_dist, n_iter=samples) #default cv = 3"
   ]
  },
  {
   "cell_type": "code",
   "execution_count": 34,
   "metadata": {},
   "outputs": [
    {
     "name": "stderr",
     "output_type": "stream",
     "text": [
      "C:\\Users\\Mukesh\\Anaconda3\\lib\\site-packages\\sklearn\\model_selection\\_split.py:1943: FutureWarning: You should specify a value for 'cv' instead of relying on the default value. The default value will change from 3 to 5 in version 0.22.\n",
      "  warnings.warn(CV_WARNING, FutureWarning)\n"
     ]
    },
    {
     "name": "stdout",
     "output_type": "stream",
     "text": [
      "{'bootstrap': True, 'criterion': 'gini', 'max_depth': None, 'max_features': 4, 'min_samples_leaf': 3, 'min_samples_split': 2}\n"
     ]
    }
   ],
   "source": [
    "randomCV.fit(X, y)\n",
    "\n",
    " \n",
    "print(randomCV.best_params_)\n",
    "#print(randomCV.cv_results_)"
   ]
  },
  {
   "cell_type": "code",
   "execution_count": 35,
   "metadata": {},
   "outputs": [],
   "source": [
    "# use a full grid over all parameters\n",
    "param_grid = {\"max_depth\": [3, None],\n",
    "              \"max_features\": [1, 3, 10],\n",
    "              \"min_samples_split\": [2, 3, 10],\n",
    "              \"min_samples_leaf\": [1, 3, 10],\n",
    "              \"bootstrap\": [True, False],\n",
    "              \"criterion\": [\"gini\", \"entropy\"]}"
   ]
  },
  {
   "cell_type": "code",
   "execution_count": 36,
   "metadata": {},
   "outputs": [
    {
     "name": "stderr",
     "output_type": "stream",
     "text": [
      "C:\\Users\\Mukesh\\Anaconda3\\lib\\site-packages\\sklearn\\model_selection\\_split.py:1943: FutureWarning: You should specify a value for 'cv' instead of relying on the default value. The default value will change from 3 to 5 in version 0.22.\n",
      "  warnings.warn(CV_WARNING, FutureWarning)\n"
     ]
    },
    {
     "data": {
      "text/plain": [
       "GridSearchCV(cv='warn', error_score='raise-deprecating',\n",
       "       estimator=RandomForestClassifier(bootstrap=True, class_weight=None, criterion='gini',\n",
       "            max_depth=None, max_features='auto', max_leaf_nodes=None,\n",
       "            min_impurity_decrease=0.0, min_impurity_split=None,\n",
       "            min_samples_leaf=1, min_samples_split=2,\n",
       "            min_weight_fraction_leaf=0.0, n_estimators=50, n_jobs=None,\n",
       "            oob_score=False, random_state=None, verbose=0,\n",
       "            warm_start=False),\n",
       "       fit_params=None, iid='warn', n_jobs=None,\n",
       "       param_grid={'max_depth': [3, None], 'max_features': [1, 3, 10], 'min_samples_split': [2, 3, 10], 'min_samples_leaf': [1, 3, 10], 'bootstrap': [True, False], 'criterion': ['gini', 'entropy']},\n",
       "       pre_dispatch='2*n_jobs', refit=True, return_train_score='warn',\n",
       "       scoring=None, verbose=0)"
      ]
     },
     "execution_count": 36,
     "metadata": {},
     "output_type": "execute_result"
    }
   ],
   "source": [
    "# run grid search\n",
    "grid_search = GridSearchCV(clf, param_grid=param_grid)\n",
    "start = time()\n",
    "grid_search.fit(X, y)"
   ]
  },
  {
   "cell_type": "code",
   "execution_count": 37,
   "metadata": {},
   "outputs": [
    {
     "data": {
      "text/plain": [
       "{'bootstrap': False,\n",
       " 'criterion': 'entropy',\n",
       " 'max_depth': None,\n",
       " 'max_features': 3,\n",
       " 'min_samples_leaf': 1,\n",
       " 'min_samples_split': 3}"
      ]
     },
     "execution_count": 37,
     "metadata": {},
     "output_type": "execute_result"
    }
   ],
   "source": [
    "grid_search.best_params_"
   ]
  },
  {
   "cell_type": "code",
   "execution_count": 38,
   "metadata": {},
   "outputs": [
    {
     "data": {
      "text/plain": [
       "array([0.83528102, 0.80411797, 0.81413467, 0.7902059 , 0.81691708,\n",
       "       0.80523094, 0.82025598, 0.80523094, 0.82415136, 0.84974958,\n",
       "       0.84195882, 0.82860323, 0.83806344, 0.85475793, 0.84529772,\n",
       "       0.83528102, 0.84529772, 0.84084585, 0.81413467, 0.83472454,\n",
       "       0.82136895, 0.82470785, 0.82804674, 0.82192543, 0.83249861,\n",
       "       0.83361157, 0.83027268, 0.92932666, 0.92821369, 0.90984975,\n",
       "       0.90762382, 0.90873678, 0.91263216, 0.88425153, 0.87312187,\n",
       "       0.87479132, 0.93656093, 0.93322204, 0.93210907, 0.92431831,\n",
       "       0.93600445, 0.9148581 , 0.91040623, 0.9148581 , 0.90317195,\n",
       "       0.93989983, 0.92877017, 0.92264886, 0.93043962, 0.92654424,\n",
       "       0.91986644, 0.90094602, 0.91263216, 0.90372844, 0.78797997,\n",
       "       0.79521425, 0.83027268, 0.81023929, 0.80634391, 0.81691708,\n",
       "       0.80411797, 0.82248191, 0.82749026, 0.85754035, 0.83528102,\n",
       "       0.83861992, 0.8558709 , 0.82081247, 0.83249861, 0.84641068,\n",
       "       0.84474124, 0.82526433, 0.84140234, 0.82971619, 0.82749026,\n",
       "       0.84195882, 0.83249861, 0.84529772, 0.83917641, 0.84084585,\n",
       "       0.83305509, 0.92932666, 0.92710072, 0.91374513, 0.90651085,\n",
       "       0.90762382, 0.90372844, 0.88313856, 0.88313856, 0.8753478 ,\n",
       "       0.93266555, 0.93489149, 0.92654424, 0.92598776, 0.93656093,\n",
       "       0.92598776, 0.90595437, 0.90651085, 0.9115192 , 0.93934335,\n",
       "       0.93266555, 0.92543127, 0.92543127, 0.92932666, 0.92320534,\n",
       "       0.91374513, 0.91875348, 0.90929327, 0.81803005, 0.83305509,\n",
       "       0.79465776, 0.81357819, 0.82359488, 0.80523094, 0.79187535,\n",
       "       0.81357819, 0.80467446, 0.83027268, 0.84028937, 0.83861992,\n",
       "       0.85475793, 0.83416806, 0.8425153 , 0.84084585, 0.84863662,\n",
       "       0.85030607, 0.82192543, 0.82081247, 0.81023929, 0.81580412,\n",
       "       0.8196995 , 0.81190874, 0.80856984, 0.79910963, 0.82526433,\n",
       "       0.93823038, 0.93377852, 0.92877017, 0.91374513, 0.91986644,\n",
       "       0.91430161, 0.89593767, 0.90651085, 0.89426822, 0.94156928,\n",
       "       0.9443517 , 0.93266555, 0.93989983, 0.94212577, 0.93322204,\n",
       "       0.9115192 , 0.91541458, 0.92042293, 0.94156928, 0.93600445,\n",
       "       0.94212577, 0.93656093, 0.93155259, 0.93377852, 0.9148581 ,\n",
       "       0.9148581 , 0.91652755, 0.8196995 , 0.81190874, 0.81246522,\n",
       "       0.8425153 , 0.82915971, 0.80189204, 0.82025598, 0.81023929,\n",
       "       0.8163606 , 0.83528102, 0.83806344, 0.83194213, 0.84641068,\n",
       "       0.84028937, 0.84084585, 0.84529772, 0.85197551, 0.8425153 ,\n",
       "       0.83750696, 0.82915971, 0.81079577, 0.83027268, 0.82359488,\n",
       "       0.83472454, 0.81524763, 0.8196995 , 0.82804674, 0.93210907,\n",
       "       0.93989983, 0.9309961 , 0.91652755, 0.92376183, 0.92320534,\n",
       "       0.88313856, 0.89538119, 0.88369505, 0.94268225, 0.94490818,\n",
       "       0.93656093, 0.92988314, 0.9376739 , 0.92543127, 0.91096272,\n",
       "       0.91541458, 0.92376183, 0.93544797, 0.93489149, 0.93489149,\n",
       "       0.93210907, 0.93043962, 0.9309961 , 0.91930996, 0.91764051,\n",
       "       0.92487479])"
      ]
     },
     "execution_count": 38,
     "metadata": {},
     "output_type": "execute_result"
    }
   ],
   "source": [
    "grid_search.cv_results_['mean_test_score']"
   ]
  },
  {
   "cell_type": "code",
   "execution_count": 39,
   "metadata": {},
   "outputs": [
    {
     "data": {
      "text/plain": [
       "RandomForestClassifier(bootstrap=False, class_weight=None,\n",
       "            criterion='entropy', max_depth=None, max_features=3,\n",
       "            max_leaf_nodes=None, min_impurity_decrease=0.0,\n",
       "            min_impurity_split=None, min_samples_leaf=1,\n",
       "            min_samples_split=3, min_weight_fraction_leaf=0.0,\n",
       "            n_estimators=50, n_jobs=None, oob_score=False,\n",
       "            random_state=None, verbose=0, warm_start=False)"
      ]
     },
     "execution_count": 39,
     "metadata": {},
     "output_type": "execute_result"
    }
   ],
   "source": [
    "grid_search.best_estimator_"
   ]
  },
  {
   "cell_type": "code",
   "execution_count": null,
   "metadata": {},
   "outputs": [],
   "source": [
    "yy = linreg.predict(x_test2)"
   ]
  }
 ],
 "metadata": {
  "kernelspec": {
   "display_name": "Python 3",
   "language": "python",
   "name": "python3"
  },
  "language_info": {
   "codemirror_mode": {
    "name": "ipython",
    "version": 3
   },
   "file_extension": ".py",
   "mimetype": "text/x-python",
   "name": "python",
   "nbconvert_exporter": "python",
   "pygments_lexer": "ipython3",
   "version": "3.7.0"
  }
 },
 "nbformat": 4,
 "nbformat_minor": 1
}
